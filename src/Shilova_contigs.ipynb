{
  "nbformat": 4,
  "nbformat_minor": 0,
  "metadata": {
    "colab": {
      "name": "Shilova_contigs.ipynb",
      "provenance": [],
      "collapsed_sections": []
    },
    "kernelspec": {
      "name": "python3",
      "display_name": "Python 3"
    },
    "language_info": {
      "name": "python"
    }
  },
  "cells": [
    {
      "cell_type": "markdown",
      "metadata": {
        "id": "TlmSMzqV_qCT"
      },
      "source": [
        "## Анализ контигов, полученных с помощью platanus assemble"
      ]
    },
    {
      "cell_type": "code",
      "metadata": {
        "colab": {
          "base_uri": "https://localhost:8080/"
        },
        "id": "lpktrj6T_fO2",
        "outputId": "264a3708-6d66-4121-ff37-f50488260758"
      },
      "source": [
        "! less Poil_contig.fa"
      ],
      "execution_count": 2,
      "outputs": [
        {
          "output_type": "stream",
          "name": "stdout",
          "text": [
            "\u001b7\u001b[?47h\u001b[?1h\u001b=\r>seq1_len8077_cov219\r\n",
            "TGATCGCTATTGTTGACTGCATCGGCTGCGGCTTCGAAGGTTCGCACTTCGTAAAAAGGTTCTACGGCTGGCCCACCTTG\r\n",
            "GCCTACGGTCGATCCTGTTCTTCCCGGAGCGATGTCGACGCCCGTGTTAACCGTCTTCCATGTGCCGATCAATGGTTGCA\r\n",
            "ATGGACCAAAGTCAGGAGCTTCGGCTAAAGCAGATTCTGCAAATGAGAAGGATAGGGTCAGTGATGTTAGAACGATCGCA\r\n",
            "GGTATGTTTCTAAAAGTTTTCATCGGCTTGTCCATTTCAATATTAATGGGAGGTATCGCTTGGCTTTCATGACGCTTGAG\r\n",
            "TGAAAAATCAACAATAAACTCAAGTGGGCTCAGTCATTAAGTGGAGCCGATGTTAAGTGACAAGTCGCTGGGGTTATATG\r\n",
            "GGAGGTATGTCCTGCTAGCGTAAAAATGCAGTGTTTATAGGGTATAGGACATATGTCCCATGCCATAAATCACTTAGAAT\r\n",
            "CAGGCAGCATATAGGGCACTATTCGCCATGATTTTAACCACACGTAGTTATGGAAAAATAATGATTGATGAAGTGAAGTG\r\n",
            "GAGTTTTTTGATTAGGTTGTTTTTTGTACTAATCGTAATCACGAGCGTAATGGATATAACGGTCGACTTTGCGCATGGAG\r\n",
            "CAAACTTTTTGCACATGACTCAAGAAGCAATTGTATGTGTTTTTGCACTTTCACTGCTGTTAATGTTGTTTCTCAACACT\r\n",
            "CGAGCGCAGGCAAGACGAATTGATCAATTATTGATCGAATTGGAACAAGCCAAGGTCCACTCTGCGCAAGCGTCAAAAGA\r\n",
            "GTTGGTGAGTGCCAAGCGCATCTTCGGTGACGAAATATTGAAGCAATTTTCAATTTGGGGATTTACCGAAAGTGAATCGG\r\n",
            "ATATTGCCTTGTTTACACTCAAAGGATTTAGTGCCAAAGAAATTGCAGATTATCGCAATGCTTCTGAAAAGACCGTCCGC\r\n",
            "AATCAATTAACCAGTGTGTATAAAAAATCAGAGATGACAAGCAAGGTCGCTTTCATTGCTTGGTTTATGGAAGGCTTGAT\r\n",
            "CTAACGAATTGAAACAATAAAGCCAGTCGTTGACTGGCTTTGTTGTTGTTACACGAGTGAAAACTTACTTTTCTAGCACT\r\n",
            "TCAAAGGTAACACCGGCGAAGTCTTGTAAGCGATCGATGTAGCGTTGATCGAAGATGGATCCCGGAGTCCAGAAGCCGCC\r\n",
            "TTCTTTATCGCATTTTTTCCCATTTTTATGAAAATCCAATGCTAAACCCGCAGCCGCTTGGCCGAGTAGCTTGCCGGTTG\r\n",
            "ATCCGTAGCCTGGGTCCATGTCGCCGGTGACGCGCGTTAAGATGTTGCGGCCATCTTTGGTTAGGCCGGCAAAACGGATA\r\n",
            "TCGTAAAATCCTGCTTCTTGAGCTTTTGGACTAGGACCCTGACCAGGTTTAGGTAATACGAAGCGTTCTAACAGCCAGCG\r\n",
            "TGTCGGTTTAATTGCAGCGCCTGCCATAAAAGCACCTAAACCAAGGGTAATACCGGTGGCCATGGCGCGACCTTTGGCAC\r\n",
            "CGCGTCCAGTGAGCATGGTTTCTTCATAGGTAAAATCGTTGCCGTATTTCTTACCCAGTAACGCATTGCTACGATGAACA\r\n",
            "ACGCGGGTATTGATCGCAGCCATAATAAAAGGCGCTGACCAAGCTTTGAATTGTGAATCGAACTTTGCGCCACGCTGGTC\r\n",
            "TACTTGTTTGGTGCTAAAGCGATGTCCCGGAGGACAGATTGAGTAGGGGTCGGCCAGTTCTTTCCGCAGACTTGGGTTGG\n",
            "\u001b[K:\u001b[K^C\n"
          ]
        }
      ]
    },
    {
      "cell_type": "markdown",
      "metadata": {
        "id": "oV9TURTOAGsV"
      },
      "source": [
        "ОБщее количество контигов"
      ]
    },
    {
      "cell_type": "code",
      "metadata": {
        "colab": {
          "base_uri": "https://localhost:8080/"
        },
        "id": "P3X-aULL_5hJ",
        "outputId": "ea4be974-4e0f-4ea5-de5c-4b33688815e9"
      },
      "source": [
        "! grep -c '>' Poil_contig.fa"
      ],
      "execution_count": 1,
      "outputs": [
        {
          "output_type": "stream",
          "name": "stdout",
          "text": [
            "607\n"
          ]
        }
      ]
    },
    {
      "cell_type": "markdown",
      "metadata": {
        "id": "yWGvT0dlBPv0"
      },
      "source": [
        "Общая длина контигов"
      ]
    },
    {
      "cell_type": "code",
      "metadata": {
        "id": "9nrIwylTAz7D"
      },
      "source": [
        "! grep 'len' Poil_contig.fa >> len.txt #перенаправляем вывод в файл len.txt"
      ],
      "execution_count": 2,
      "outputs": []
    },
    {
      "cell_type": "code",
      "metadata": {
        "id": "whdChJpTC4QQ"
      },
      "source": [
        "#Считываем из файла в список\n",
        "len_list = []\n",
        "with open('len.txt') as f:\n",
        "    len_list = f.read().splitlines()"
      ],
      "execution_count": 3,
      "outputs": []
    },
    {
      "cell_type": "code",
      "metadata": {
        "id": "HdcCH0VXHczE"
      },
      "source": [
        "import numpy as np"
      ],
      "execution_count": 4,
      "outputs": []
    },
    {
      "cell_type": "code",
      "metadata": {
        "id": "oMzdD1z5FcHd"
      },
      "source": [
        "len_lst_int = []\n",
        "for i in range(len(len_list)):\n",
        "  len_lst_int.append((int)(len_list[i].split('_')[1][3:]))\n",
        "len_lst_np = np.array(len_lst_int)"
      ],
      "execution_count": 5,
      "outputs": []
    },
    {
      "cell_type": "code",
      "metadata": {
        "colab": {
          "base_uri": "https://localhost:8080/"
        },
        "id": "cn1VzfC4IKdY",
        "outputId": "27a2730c-3c59-4023-eaa6-269e9b246f45"
      },
      "source": [
        "len_lst_np.sum()"
      ],
      "execution_count": 6,
      "outputs": [
        {
          "output_type": "execute_result",
          "data": {
            "text/plain": [
              "3923847"
            ]
          },
          "metadata": {},
          "execution_count": 6
        }
      ]
    },
    {
      "cell_type": "markdown",
      "metadata": {
        "id": "WvGhALZXHPfs"
      },
      "source": [
        "Длина самого длинного контига"
      ]
    },
    {
      "cell_type": "code",
      "metadata": {
        "colab": {
          "base_uri": "https://localhost:8080/"
        },
        "id": "zqC4PyqlHCle",
        "outputId": "d518b8c8-886f-4bc7-9527-27bbdd7a0005"
      },
      "source": [
        "len_lst_np.max()"
      ],
      "execution_count": 7,
      "outputs": [
        {
          "output_type": "execute_result",
          "data": {
            "text/plain": [
              "179307"
            ]
          },
          "metadata": {},
          "execution_count": 7
        }
      ]
    },
    {
      "cell_type": "markdown",
      "metadata": {
        "id": "szUgykf_IUOk"
      },
      "source": [
        "N50"
      ]
    },
    {
      "cell_type": "code",
      "metadata": {
        "id": "3OwB9TRwIPVi"
      },
      "source": [
        "len_lst_np = np.sort(len_lst_np)[::-1]"
      ],
      "execution_count": 12,
      "outputs": []
    },
    {
      "cell_type": "code",
      "metadata": {
        "colab": {
          "base_uri": "https://localhost:8080/"
        },
        "id": "9TrVmaCxIaIX",
        "outputId": "6c2290d1-9182-4878-bffe-74d3d7ac7685"
      },
      "source": [
        "i = 1\n",
        "#пока сумма первых i элементов не превышает половину от общей суммы, меняем i\n",
        "while sum(len_lst_np[:i]) < 0.5 * sum(len_lst_np):\n",
        "  i += 1\n",
        "\n",
        "#Как только сумма станет больше или равна половине от общей суммы, нужно взять длину контига под номером i\n",
        "len_lst_np[i-1]"
      ],
      "execution_count": 42,
      "outputs": [
        {
          "output_type": "execute_result",
          "data": {
            "text/plain": [
              "47611"
            ]
          },
          "metadata": {},
          "execution_count": 42
        }
      ]
    },
    {
      "cell_type": "markdown",
      "metadata": {
        "id": "G4_fxMDCUBBy"
      },
      "source": [
        "## Анализ скаффолдов, полученных с помощью platanus scaffold"
      ]
    },
    {
      "cell_type": "code",
      "metadata": {
        "colab": {
          "base_uri": "https://localhost:8080/"
        },
        "id": "Ovu6wMQsT8hV",
        "outputId": "468d8ae9-bd00-472b-e9f5-0f90eec7853c"
      },
      "source": [
        "! less Poil_scaffold.fa"
      ],
      "execution_count": 29,
      "outputs": [
        {
          "output_type": "stream",
          "name": "stdout",
          "text": [
            "\u001b7\u001b[?47h\u001b[?1h\u001b=\r>scaffold1_len3833234_cov231\r\n",
            "AGTAGGTCATCGTCAAGCTCTTATTCTAAAACCCCCTTCCGGTAACGGTTGGGGGTTTTTTCTTGGCTGCGATTTACCGA\r\n",
            "ATACTATTTGTTGAATCAGTCTAGAAATAGTTATAACCCTTCATTCTTTGGTGGCGTTGCAGTCCGGGTATTGGTACATA\r\n",
            "GCTGCTGAGTTTTAGAGTGTGCTGATTGAAAGTCTGATGTGTTGGCACTCTTTTGCAGTTTTCGTGAATTTATACTGGAT\r\n",
            "ATAGTGGCTTGAATCTTTACAGCAACTAGATGTAGTGGCTGTGGTTGCTAACAGACACATGTGGTAAAGTGTTTGAAATT\r\n",
            "GATAGGAATTCGTGGCGATTTATGTCCGAAGCACCAGATTTTAGCCAAGTTAGCTGTTGGGGTAATGTAGTCTTGCTGTA\r\n",
            "AAGAGTACGCCCGTACCGCTAATAGAGGTTGAAGCAAATTCTGTAGCGCATATCCTATCGGTAACAAGAATTTAATAATA\r\n",
            "AAAACAAGTTGTCACCATATTCCAAGCCCTGTCCGACTAAACTAAATGTTGGTTAAGGTGTGACTTGTCCTCTAACGATT\r\n",
            "TACGAGGTCTCCAAGTGGTCAATAAAGCATACAGATCAATACTCGCATTAAGTGCTATGACGGCTAGTTTGTCGTCAGTT\r\n",
            "GCGCTAGAGGCTATTCCTGATGATGAGCTTAACCACTATACAGGTCAGGCATTCATCACGGTTGATGCATCTTCATACTC\r\n",
            "AGATGCTACTTTAGGTAATTATGAGTTTACTCGGGTGAATTTAGGTCTCGATATTGAGACTCTCTCGAATGCGGATGAGT\r\n",
            "TACGTATCGGAGAGTTTGATCGTAGTTACGGTGCTGACGGTACTGCTCCGATAGTTGATGATAATCGAAATATTGTATTC\r\n",
            "AACGCCGATGGAAGCGTCGCTGTGCACGATGCCGATATTATTATTCAGAATTTCGCTTTGGGACGAGTTGATAATTACAA\r\n",
            "TGATCCAGAAAATGCTGAAATAGTTCCATTTAAAATTAAAGATCCATACATCGAGTTGGCCTATAAAACAGATCCGGGGA\r\n",
            "ATTCTAGTATTCGTCGTATTGCTGGTGTTCGTATTGGCTTTGGTCAGGCTCAAGGTGACCTTTCAGGTGATTTAATTTCA\r\n",
            "TTAACAGGTAATCTTGAAGGTGAGATTCGTGGTCCAACATCGATTGCATATGATGCCGCTTGTGGCAATGGCAATGGCAA\r\n",
            "TACGGCAAATGCTATTGAATGTCTTCTGTTGGCCGTGGCTTCGGGTACGGAAATTTATGCTGAGGTTAAGTTACTCGATG\r\n",
            "GTAAAACGGGTGACGCCACTTTAAATGGTGCTCCTTATTTGAAGCGTGCATCGTGGATTGGTGTTCCTACTGGAACTAAC\r\n",
            "TTTGAATCTGATGATACTGGTTTAGTTGCCGGTTTGATTCCAGCGTTAACAACTGCGTCCGATTGTTCTGTTCTTGGTGT\r\n",
            "GACTGGGTGTTTCCGTACAACCAATTACCAAAGTATATATGTGGGTGACCCAACTAAAAATTTTGAGAATGGTTCTGCCT\r\n",
            "CAGGCGCTTTTATATCCCTCCAACTTGAGCCTGTGCCTTGGGAGGATTTGTCCGGAATTGCAGGTGCCTCTCGAGTTTAT\r\n",
            "ACCGAGAAGGGTGCGTTCTTGAATATTGCTAAGTATGCCGACTCGAATGGCCAGCAGCGTTATCCCTTGTATTTAGATTT\r\n",
            "ATACAATGCGTTAACCGGTGAGCCTCGTGTAGCCACATGTATTGGCCGGACAAAAGGGTGCTAACAATGAATAAAAAAAT\n",
            "\u001b[K:\u001b[K^C\n"
          ]
        }
      ]
    },
    {
      "cell_type": "markdown",
      "metadata": {
        "id": "9koiIVlTUTJx"
      },
      "source": [
        "Общее количество"
      ]
    },
    {
      "cell_type": "code",
      "metadata": {
        "colab": {
          "base_uri": "https://localhost:8080/"
        },
        "id": "QDnHGLpELq9o",
        "outputId": "d02492dc-eff2-494e-b687-a185e67e8eaa"
      },
      "source": [
        "! grep -c '>' Poil_scaffold.fa"
      ],
      "execution_count": 30,
      "outputs": [
        {
          "output_type": "stream",
          "name": "stdout",
          "text": [
            "70\n"
          ]
        }
      ]
    },
    {
      "cell_type": "markdown",
      "metadata": {
        "id": "JIQdO1WSUaPh"
      },
      "source": [
        "Общая длина"
      ]
    },
    {
      "cell_type": "code",
      "metadata": {
        "id": "Lv3HOnW-UZAg"
      },
      "source": [
        "! grep 'len' Poil_scaffold.fa >> len2.txt #перенаправляем вывод в файл len2.txt\n",
        "#Считываем из файла в список\n",
        "len_list2 = []\n",
        "with open('len2.txt') as f:\n",
        "    len_list2 = f.read().splitlines()"
      ],
      "execution_count": 31,
      "outputs": []
    },
    {
      "cell_type": "code",
      "metadata": {
        "id": "TKTPIlB_Urf2"
      },
      "source": [
        "len_lst_int2 = []\n",
        "for i in range(len(len_list2)):\n",
        "  len_lst_int2.append((int)(len_list2[i].split('_')[1][3:]))\n",
        "len_lst_np2 = np.array(len_lst_int2)"
      ],
      "execution_count": 32,
      "outputs": []
    },
    {
      "cell_type": "code",
      "metadata": {
        "colab": {
          "base_uri": "https://localhost:8080/"
        },
        "id": "9um-PFaRUzNi",
        "outputId": "15ddf4cc-58fd-4985-9771-23d9cf2e1819"
      },
      "source": [
        "len_lst_np2.sum()"
      ],
      "execution_count": 33,
      "outputs": [
        {
          "output_type": "execute_result",
          "data": {
            "text/plain": [
              "3872834"
            ]
          },
          "metadata": {},
          "execution_count": 33
        }
      ]
    },
    {
      "cell_type": "markdown",
      "metadata": {
        "id": "g9KQFbTjVA4M"
      },
      "source": [
        "Длина самого длинного"
      ]
    },
    {
      "cell_type": "code",
      "metadata": {
        "colab": {
          "base_uri": "https://localhost:8080/"
        },
        "id": "LBs87vIAU5dP",
        "outputId": "2360baa3-1a36-4d6b-c60e-ff4575c60c13"
      },
      "source": [
        "len_lst_np2.max()"
      ],
      "execution_count": 34,
      "outputs": [
        {
          "output_type": "execute_result",
          "data": {
            "text/plain": [
              "3833234"
            ]
          },
          "metadata": {},
          "execution_count": 34
        }
      ]
    },
    {
      "cell_type": "markdown",
      "metadata": {
        "id": "A5jYy9lfVJhk"
      },
      "source": [
        "N50"
      ]
    },
    {
      "cell_type": "code",
      "metadata": {
        "id": "2fHVaRTBVIUF"
      },
      "source": [
        "len_lst_np2 = np.sort(len_lst_np2)[::-1]"
      ],
      "execution_count": 35,
      "outputs": []
    },
    {
      "cell_type": "code",
      "metadata": {
        "colab": {
          "base_uri": "https://localhost:8080/"
        },
        "id": "4JljphPYVOIQ",
        "outputId": "8795a224-0f4b-4054-d6bb-d101f9f13122"
      },
      "source": [
        "i = 1\n",
        "#пока сумма первых i элементов не превышает половину от общей суммы, меняем i\n",
        "while sum(len_lst_np2[:i]) < 0.5 * sum(len_lst_np2):\n",
        "  i += 1\n",
        "\n",
        "#Как только сумма станет больше или равна половине от общей суммы, нужно взять длину контига под номером i\n",
        "len_lst_np2[i-1]"
      ],
      "execution_count": 41,
      "outputs": [
        {
          "output_type": "execute_result",
          "data": {
            "text/plain": [
              "3833234"
            ]
          },
          "metadata": {},
          "execution_count": 41
        }
      ]
    },
    {
      "cell_type": "markdown",
      "metadata": {
        "id": "-4VtU6YhVdIv"
      },
      "source": [
        "Как мы можем заметить, половину общей суммы покрывает первая большая последовательность. "
      ]
    },
    {
      "cell_type": "code",
      "metadata": {
        "colab": {
          "base_uri": "https://localhost:8080/"
        },
        "id": "Sj0rixcbVaJB",
        "outputId": "355ff10f-2563-4b46-ad8e-30895ac3d347"
      },
      "source": [
        "len_lst_np2"
      ],
      "execution_count": 43,
      "outputs": [
        {
          "output_type": "execute_result",
          "data": {
            "text/plain": [
              "array([3833234,    4647,    3376,    3265,    2562,    2187,    1815,\n",
              "          1599,    1399,    1256,    1171,    1051,     875,     841,\n",
              "           670,     661,     563,     521,     482,     460,     458,\n",
              "           411,     391,     380,     372,     367,     357,     351,\n",
              "           325,     284,     268,     266,     265,     249,     230,\n",
              "           223,     223,     213,     207,     206,     193,     190,\n",
              "           189,     179,     175,     167,     163,     158,     158,\n",
              "           155,     155,     147,     146,     146,     143,     141,\n",
              "           130,     119,     117,     116,     113,     109,     109,\n",
              "           108,     108,     108,     104,     104,     102,     101])"
            ]
          },
          "metadata": {},
          "execution_count": 43
        }
      ]
    }
  ]
}